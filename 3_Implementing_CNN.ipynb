{
 "cells": [
  {
   "cell_type": "code",
   "execution_count": 1,
   "metadata": {},
   "outputs": [],
   "source": [
    "#1 Import Important Data\n",
    "\n",
    "#Import tensorflow and numpy package\n",
    "import tensorflow as tf\n",
    "import numpy as np\n",
    "\n",
    "#import mnist dataset\n",
    "from tensorflow.examples.tutorials.mnist import input_data"
   ]
  },
  {
   "cell_type": "code",
   "execution_count": 9,
   "metadata": {},
   "outputs": [
    {
     "ename": "IndentationError",
     "evalue": "unindent does not match any outer indentation level (<tokenize>, line 61)",
     "output_type": "error",
     "traceback": [
      "\u001b[1;36m  File \u001b[1;32m\"<tokenize>\"\u001b[1;36m, line \u001b[1;32m61\u001b[0m\n\u001b[1;33m    print(\"\\nTraining complete!\")\u001b[0m\n\u001b[1;37m    ^\u001b[0m\n\u001b[1;31mIndentationError\u001b[0m\u001b[1;31m:\u001b[0m unindent does not match any outer indentation level\n"
     ]
    }
   ],
   "source": [
    "def run_cnn():\n",
    "    mnist = input_data.read_data_sets(\"MNIST_data/\", one_hot = True)\n",
    "    learning_rate = 0.0001\n",
    "    epochs = 10\n",
    "    batch_size = 50\n",
    "    \n",
    "    x = tf.placeholder(tf.float32, [None, 784])\n",
    "    x_shaped = tf.reshape(x, [-1, 28, 28, 1])\n",
    "    y = tf.placeholder(tf.float32, [None, 10])\n",
    "    \n",
    "    layer1 = create_new_conv_layer(x_shaped, 1, 32, [5, 5], [2, 2], name = 'layer1')\n",
    "    layer2 = create_new_conv_layer(layer1, 32, 64, [5, 5], [2, 2], name = 'layer2')\n",
    "    \n",
    "    flattened = tf.reshape(layer2, [-1, 7 * 7 * 64])\n",
    "    \n",
    "    wd1 = tf.Variable(tf.truncated_normal([7 * 7 * 64, 1000], stddev = 0.03), name = 'wd1')\n",
    "    bd1 = tf.Variable(tf.truncated_normal([1000], stddev = 0.01), name = 'bd1')\n",
    "    \n",
    "    dense_layer1 = tf.matmul(flattened, wd1) + bd1\n",
    "    dense_layer = tf.nn.relu(dense_layer1)\n",
    "    \n",
    "    #Another Layer of Softmax activateion with required optimizer\n",
    "    \n",
    "    wd2 = tf.Variable(tf.truncated_normal([1000, 10], stddev = 0.03), name = 'wd2')\n",
    "    bd2 = tf.Variable(tf.truncated_normal([10], stddev = 0.01), name = 'bd2')\n",
    "    \n",
    "    dense_layer2 = tf.matmul(dense_layer1, wd2) + bd2\n",
    "    y_ = tf.nn.softmax(dense_layer2)\n",
    "    \n",
    "    cross_entropy = tf.reduce_mean(tf.nn.softmax_corss_entropy_with_logits(logits = dense_layer2, labels = y))\n",
    "    \n",
    "    optimiser - tf.train.AdamOptimizer(learning_rate = learing_rate).minimize(cross_entropy)\n",
    "    \n",
    "    correct_predition = tf.equal(tf.argmax(y, 1), tf.argmax(y_, 1))\n",
    "    accuracy = tf.reduce_mean(tf.cast(correct_prediction, tf.float32))\n",
    "    \n",
    "    init_op = tf.global_variables_initializer()\n",
    "    \n",
    "    # Setting up record variable\n"
   ]
  },
  {
   "cell_type": "code",
   "execution_count": null,
   "metadata": {},
   "outputs": [],
   "source": []
  }
 ],
 "metadata": {
  "kernelspec": {
   "display_name": "Python 3",
   "language": "python",
   "name": "python3"
  },
  "language_info": {
   "codemirror_mode": {
    "name": "ipython",
    "version": 3
   },
   "file_extension": ".py",
   "mimetype": "text/x-python",
   "name": "python",
   "nbconvert_exporter": "python",
   "pygments_lexer": "ipython3",
   "version": "3.6.8"
  }
 },
 "nbformat": 4,
 "nbformat_minor": 2
}
